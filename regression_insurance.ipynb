{
 "cells": [
  {
   "cell_type": "markdown",
   "execution_count": null,
   "metadata": {
    "_cell_guid": "b1076dfc-b9ad-4769-8c92-a6c4dae69d19",
    "_uuid": "8f2839f25d086af736a60e9eeb907d3b93b6e0e5"
   },
   "source": [
    "# Insurance cost prediction using linear regression\n",
    "\n",
    "In this assignment we're going to use information like a person's age, sex, BMI, no. of children and smoking habit to predict the price of yearly medical bills. This kind of model is useful for insurance companies to determine the yearly insurance premium for a person. The dataset for this problem is taken from: https://www.kaggle.com/mirichoi0218/insurance\n",
    "\n",
    "We will create a model with the following steps:\n",
    "1. Download and explore the dataset\n",
    "2. Prepare the dataset for training\n",
    "3. Create a linear regression model\n",
    "4. Train the model to fit the data\n",
    "5. Make predictions using the trained model\n",
    "\n",
    "Try to experiment with the hypeparameters to get the lowest loss.\n"
   ]
  },
  {
   "cell_type": "code",
   "execution_count": 1,
   "metadata": {},
   "outputs": [],
   "source": [
    "import torch\n",
    "import torchvision\n",
    "import torch.nn as nn\n",
    "import pandas as pd\n",
    "import matplotlib.pyplot as plt\n",
    "import torch.nn.functional as F\n",
    "from torchvision.datasets.utils import download_url\n",
    "from torch.utils.data import DataLoader, TensorDataset, random_split"
   ]
  },
  {
   "cell_type": "markdown",
   "execution_count": null,
   "metadata": {},
   "source": [
    "## Step 1: Download and explore the data\n",
    "\n",
    "Let us begin by downloading the data. We'll use the `download_url` function from PyTorch to get the data as a CSV (comma-separated values) file. "
   ]
  },
  {
   "cell_type": "code",
   "execution_count": 2,
   "metadata": {
    "_cell_guid": "79c7e3d0-c299-4dcb-8224-4455121ee9b0",
    "_uuid": "d629ff2d2480ee46fbb7e2d37f6b5fab8052498a"
   },
   "outputs": [
    {
     "name": "stdout",
     "output_type": "stream",
     "text": [
      "Downloading https://hub.jovian.ml/wp-content/uploads/2020/05/insurance.csv to ./insurance.csv\n"
     ]
    },
    {
     "data": {
      "application/vnd.jupyter.widget-view+json": {
       "model_id": "597fee0519974126b122c5c083fa7e06",
       "version_major": 2,
       "version_minor": 0
      },
      "text/plain": [
       "HBox(children=(FloatProgress(value=1.0, bar_style='info', max=1.0), HTML(value='')))"
      ]
     },
     "metadata": {},
     "output_type": "display_data"
    }
   ],
   "source": [
    "DATASET_URL = \"https://hub.jovian.ml/wp-content/uploads/2020/05/insurance.csv\"\n",
    "DATA_FILENAME = \"insurance.csv\"\n",
    "download_url(DATASET_URL, '.')"
   ]
  },
  {
   "cell_type": "markdown",
   "execution_count": null,
   "metadata": {},
   "source": [
    "To load the dataset into memory, we'll use the `read_csv` function from the `pandas` library. The data will be loaded as a Pandas dataframe. See this short tutorial to learn more: https://data36.com/pandas-tutorial-1-basics-reading-data-files-dataframes-data-selection/"
   ]
  },
  {
   "cell_type": "code",
   "execution_count": 3,
   "metadata": {},
   "outputs": [
    {
     "data": {
      "text/html": [
       "<div>\n",
       "<style scoped>\n",
       "    .dataframe tbody tr th:only-of-type {\n",
       "        vertical-align: middle;\n",
       "    }\n",
       "\n",
       "    .dataframe tbody tr th {\n",
       "        vertical-align: top;\n",
       "    }\n",
       "\n",
       "    .dataframe thead th {\n",
       "        text-align: right;\n",
       "    }\n",
       "</style>\n",
       "<table border=\"1\" class=\"dataframe\">\n",
       "  <thead>\n",
       "    <tr style=\"text-align: right;\">\n",
       "      <th></th>\n",
       "      <th>age</th>\n",
       "      <th>sex</th>\n",
       "      <th>bmi</th>\n",
       "      <th>children</th>\n",
       "      <th>smoker</th>\n",
       "      <th>region</th>\n",
       "      <th>charges</th>\n",
       "    </tr>\n",
       "  </thead>\n",
       "  <tbody>\n",
       "    <tr>\n",
       "      <th>0</th>\n",
       "      <td>19</td>\n",
       "      <td>female</td>\n",
       "      <td>27.900</td>\n",
       "      <td>0</td>\n",
       "      <td>yes</td>\n",
       "      <td>southwest</td>\n",
       "      <td>16884.92400</td>\n",
       "    </tr>\n",
       "    <tr>\n",
       "      <th>1</th>\n",
       "      <td>18</td>\n",
       "      <td>male</td>\n",
       "      <td>33.770</td>\n",
       "      <td>1</td>\n",
       "      <td>no</td>\n",
       "      <td>southeast</td>\n",
       "      <td>1725.55230</td>\n",
       "    </tr>\n",
       "    <tr>\n",
       "      <th>2</th>\n",
       "      <td>28</td>\n",
       "      <td>male</td>\n",
       "      <td>33.000</td>\n",
       "      <td>3</td>\n",
       "      <td>no</td>\n",
       "      <td>southeast</td>\n",
       "      <td>4449.46200</td>\n",
       "    </tr>\n",
       "    <tr>\n",
       "      <th>3</th>\n",
       "      <td>33</td>\n",
       "      <td>male</td>\n",
       "      <td>22.705</td>\n",
       "      <td>0</td>\n",
       "      <td>no</td>\n",
       "      <td>northwest</td>\n",
       "      <td>21984.47061</td>\n",
       "    </tr>\n",
       "    <tr>\n",
       "      <th>4</th>\n",
       "      <td>32</td>\n",
       "      <td>male</td>\n",
       "      <td>28.880</td>\n",
       "      <td>0</td>\n",
       "      <td>no</td>\n",
       "      <td>northwest</td>\n",
       "      <td>3866.85520</td>\n",
       "    </tr>\n",
       "  </tbody>\n",
       "</table>\n",
       "</div>"
      ],
      "text/plain": [
       "   age     sex     bmi  children smoker     region      charges\n",
       "0   19  female  27.900         0    yes  southwest  16884.92400\n",
       "1   18    male  33.770         1     no  southeast   1725.55230\n",
       "2   28    male  33.000         3     no  southeast   4449.46200\n",
       "3   33    male  22.705         0     no  northwest  21984.47061\n",
       "4   32    male  28.880         0     no  northwest   3866.85520"
      ]
     },
     "execution_count": 3,
     "metadata": {},
     "output_type": "execute_result"
    }
   ],
   "source": [
    "dataframe_raw = pd.read_csv(DATA_FILENAME)\n",
    "dataframe_raw.head()"
   ]
  },
  {
   "cell_type": "markdown",
   "execution_count": null,
   "metadata": {},
   "source": [
    "We're going to do a slight customization of the data, so that you every participant receives a slightly different version of the dataset. We will fill a name below as a string (at least 5 characters)"
   ]
  },
  {
   "cell_type": "code",
   "execution_count": 4,
   "metadata": {},
   "outputs": [],
   "source": [
    "your_name = \"Vighnesh\" # at least 5 characters"
   ]
  },
  {
   "cell_type": "markdown",
   "execution_count": null,
   "metadata": {},
   "source": [
    "The `customize_dataset` function will customize the dataset slightly using your name as a source of random numbers."
   ]
  },
  {
   "cell_type": "code",
   "execution_count": 5,
   "metadata": {},
   "outputs": [],
   "source": [
    "def customize_dataset(dataframe_raw, rand_str):\n",
    "    dataframe = dataframe_raw.copy(deep=True)\n",
    "    # drop some rows\n",
    "    dataframe = dataframe.sample(int(0.95*len(dataframe)), random_state=int(ord(rand_str[0])))\n",
    "    # scale input\n",
    "    dataframe.bmi = dataframe.bmi * ord(rand_str[1])/100.\n",
    "    # scale target\n",
    "    dataframe.charges = dataframe.charges * ord(rand_str[2])/100.\n",
    "    # drop column\n",
    "    if ord(rand_str[3]) % 2 == 1:\n",
    "        dataframe = dataframe.drop(['region'], axis=1)\n",
    "    return dataframe"
   ]
  },
  {
   "cell_type": "code",
   "execution_count": 6,
   "metadata": {},
   "outputs": [
    {
     "name": "stdout",
     "output_type": "stream",
     "text": [
      "\n"
     ]
    },
    {
     "data": {
      "text/html": [
       "<div>\n",
       "<style scoped>\n",
       "    .dataframe tbody tr th:only-of-type {\n",
       "        vertical-align: middle;\n",
       "    }\n",
       "\n",
       "    .dataframe tbody tr th {\n",
       "        vertical-align: top;\n",
       "    }\n",
       "\n",
       "    .dataframe thead th {\n",
       "        text-align: right;\n",
       "    }\n",
       "</style>\n",
       "<table border=\"1\" class=\"dataframe\">\n",
       "  <thead>\n",
       "    <tr style=\"text-align: right;\">\n",
       "      <th></th>\n",
       "      <th>age</th>\n",
       "      <th>sex</th>\n",
       "      <th>bmi</th>\n",
       "      <th>children</th>\n",
       "      <th>smoker</th>\n",
       "      <th>region</th>\n",
       "      <th>charges</th>\n",
       "    </tr>\n",
       "  </thead>\n",
       "  <tbody>\n",
       "    <tr>\n",
       "      <th>805</th>\n",
       "      <td>45</td>\n",
       "      <td>female</td>\n",
       "      <td>37.60575</td>\n",
       "      <td>0</td>\n",
       "      <td>no</td>\n",
       "      <td>northwest</td>\n",
       "      <td>7963.813586</td>\n",
       "    </tr>\n",
       "    <tr>\n",
       "      <th>1173</th>\n",
       "      <td>38</td>\n",
       "      <td>male</td>\n",
       "      <td>30.72300</td>\n",
       "      <td>2</td>\n",
       "      <td>no</td>\n",
       "      <td>northwest</td>\n",
       "      <td>6651.578702</td>\n",
       "    </tr>\n",
       "    <tr>\n",
       "      <th>0</th>\n",
       "      <td>19</td>\n",
       "      <td>female</td>\n",
       "      <td>29.29500</td>\n",
       "      <td>0</td>\n",
       "      <td>yes</td>\n",
       "      <td>southwest</td>\n",
       "      <td>17391.471720</td>\n",
       "    </tr>\n",
       "    <tr>\n",
       "      <th>681</th>\n",
       "      <td>19</td>\n",
       "      <td>male</td>\n",
       "      <td>21.31500</td>\n",
       "      <td>0</td>\n",
       "      <td>no</td>\n",
       "      <td>southwest</td>\n",
       "      <td>1279.527800</td>\n",
       "    </tr>\n",
       "    <tr>\n",
       "      <th>215</th>\n",
       "      <td>41</td>\n",
       "      <td>female</td>\n",
       "      <td>38.95500</td>\n",
       "      <td>2</td>\n",
       "      <td>no</td>\n",
       "      <td>southwest</td>\n",
       "      <td>7592.925160</td>\n",
       "    </tr>\n",
       "  </tbody>\n",
       "</table>\n",
       "</div>"
      ],
      "text/plain": [
       "      age     sex       bmi  children smoker     region       charges\n",
       "805    45  female  37.60575         0     no  northwest   7963.813586\n",
       "1173   38    male  30.72300         2     no  northwest   6651.578702\n",
       "0      19  female  29.29500         0    yes  southwest  17391.471720\n",
       "681    19    male  21.31500         0     no  southwest   1279.527800\n",
       "215    41  female  38.95500         2     no  southwest   7592.925160"
      ]
     },
     "execution_count": 6,
     "metadata": {},
     "output_type": "execute_result"
    }
   ],
   "source": [
    "dataframe = customize_dataset(dataframe_raw, your_name)\n",
    "dataframe.head()"
   ]
  },
  {
   "cell_type": "markdown",
   "execution_count": null,
   "metadata": {},
   "source": [
    "Let us answer some basic questions about the dataset. \n",
    "\n",
    "\n",
    "**Q: How many rows does the dataset have?**"
   ]
  },
  {
   "cell_type": "code",
   "execution_count": 7,
   "metadata": {},
   "outputs": [
    {
     "name": "stdout",
     "output_type": "stream",
     "text": [
      "1271\n"
     ]
    }
   ],
   "source": [
    "num_rows = len(dataframe)\n",
    "print(num_rows)"
   ]
  },
  {
   "cell_type": "markdown",
   "execution_count": null,
   "metadata": {},
   "source": [
    "**Q: How many columns doe the dataset have**"
   ]
  },
  {
   "cell_type": "code",
   "execution_count": 8,
   "metadata": {},
   "outputs": [
    {
     "name": "stdout",
     "output_type": "stream",
     "text": [
      "7\n"
     ]
    }
   ],
   "source": [
    "num_cols = len(dataframe.columns)\n",
    "print(num_cols)"
   ]
  },
  {
   "cell_type": "markdown",
   "execution_count": null,
   "metadata": {},
   "source": [
    "**Q: What are the column titles of the input variables?**"
   ]
  },
  {
   "cell_type": "code",
   "execution_count": 9,
   "metadata": {},
   "outputs": [
    {
     "data": {
      "text/plain": [
       "['age', 'sex', 'bmi', 'children', 'smoker', 'region']"
      ]
     },
     "execution_count": 9,
     "metadata": {},
     "output_type": "execute_result"
    }
   ],
   "source": [
    "input_cols = list(dataframe.drop('charges',axis=1).columns)\n",
    "input_cols"
   ]
  },
  {
   "cell_type": "markdown",
   "execution_count": null,
   "metadata": {},
   "source": [
    "**Q: Which of the input columns are non-numeric or categorial variables ?**\n",
    "\n",
    "Hint: `sex` is one of them. List the columns that are not numbers."
   ]
  },
  {
   "cell_type": "code",
   "execution_count": 10,
   "metadata": {},
   "outputs": [
    {
     "data": {
      "text/plain": [
       "['sex', 'smoker', 'region']"
      ]
     },
     "execution_count": 10,
     "metadata": {},
     "output_type": "execute_result"
    }
   ],
   "source": [
    "categorical_cols = list(dataframe.select_dtypes(include='object').columns)\n",
    "categorical_cols"
   ]
  },
  {
   "cell_type": "markdown",
   "execution_count": null,
   "metadata": {},
   "source": [
    "**Q: What are the column titles of output/target variable(s)?**"
   ]
  },
  {
   "cell_type": "code",
   "execution_count": 11,
   "metadata": {},
   "outputs": [
    {
     "data": {
      "text/plain": [
       "['charges']"
      ]
     },
     "execution_count": 11,
     "metadata": {},
     "output_type": "execute_result"
    }
   ],
   "source": [
    "output_cols = [dataframe.columns[-1]]\n",
    "output_cols"
   ]
  },
  {
   "cell_type": "markdown",
   "execution_count": null,
   "metadata": {},
   "source": [
    "**Q: (Optional) What is the minimum, maximum and average value of the `charges` column? Can you show the distribution of values in a graph?**"
   ]
  },
  {
   "cell_type": "code",
   "execution_count": 12,
   "metadata": {},
   "outputs": [
    {
     "name": "stdout",
     "output_type": "stream",
     "text": [
      "Minimum charge =  1155.530117\n",
      "Maximum charge =  65683.5408503\n",
      "Average charge =  13674.550305678813\n"
     ]
    }
   ],
   "source": [
    "# Write your answer here\n",
    "import numpy as np\n",
    "# min_charge = np.min(dataframe.charges)\n",
    "min_charge = dataframe.charges.min()\n",
    "print(\"Minimum charge = \",min_charge)\n",
    "# max_charge = np.max(dataframe.charges)\n",
    "max_charge = dataframe.charges.max()\n",
    "print(\"Maximum charge = \",max_charge)\n",
    "# avg_charge = np.mean(dataframe.charges)\n",
    "avg_charge = dataframe.charges.mean()\n",
    "print(\"Average charge = \",avg_charge)"
   ]
  },
  {
   "cell_type": "code",
   "execution_count": 13,
   "metadata": {},
   "outputs": [
    {
     "data": {
      "text/plain": [
       "<matplotlib.axes._subplots.AxesSubplot at 0x7f1215d7fd10>"
      ]
     },
     "execution_count": 13,
     "metadata": {},
     "output_type": "execute_result"
    },
    {
     "data": {
      "image/png": "[encoded data removed]",
      "text/plain": [
       "<Figure size 432x288 with 2 Axes>"
      ]
     },
     "metadata": {
      "needs_background": "light"
     },
     "output_type": "display_data"
    }
   ],
   "source": [
    "# Plotting the distribution of 'charges' column\n",
    "import seaborn as sns\n",
    "fig, axs = plt.subplots(ncols=2)\n",
    "sns.set_style(\"darkgrid\")\n",
    "plt.rcParams['font.size'] = 14\n",
    "plt.rcParams['figure.figsize'] = (9, 5)\n",
    "#plt.title(\"Distribution of charges\")\n",
    "sns.distplot(dataframe.charges, ax=axs[0]) # Skewed data\n",
    "sns.distplot(np.log(dataframe.charges),ax=axs[1]) # Trying to make data normal using log transformation"
   ]
  },
  {
   "cell_type": "markdown",
   "execution_count": null,
   "metadata": {},
   "source": [
    "## Step 2: Prepare the dataset for training\n",
    "\n",
    "We need to convert the data from the Pandas dataframe into a PyTorch tensors for training. To do this, the first step is to convert it numpy arrays. If you've filled out `input_cols`, `categorial_cols` and `output_cols` correctly, this following function will perform the conversion to numpy arrays."
   ]
  },
  {
   "cell_type": "code",
   "execution_count": 14,
   "metadata": {},
   "outputs": [],
   "source": [
    "def dataframe_to_arrays(dataframe):\n",
    "    # Make a copy of the original dataframe\n",
    "    dataframe1 = dataframe.copy(deep=True)\n",
    "    # Convert non-numeric categorical columns to numbers\n",
    "    for col in categorical_cols:\n",
    "        dataframe1[col] = dataframe1[col].astype('category').cat.codes\n",
    "    # Extract input & outupts as numpy arrays\n",
    "    #inputs_array = np.array(dataframe1[input_cols])\n",
    "    inputs_array = dataframe1.drop('charges',axis=1).values\n",
    "    #targets_array = np.array(dataframe1[output_cols])\n",
    "    targets_array = dataframe1[['charges']].values\n",
    "    return inputs_array, targets_array"
   ]
  },
  {
   "cell_type": "markdown",
   "execution_count": null,
   "metadata": {},
   "source": [
    "Read through the [Pandas documentation](https://pandas.pydata.org/pandas-docs/stable/user_guide/categorical.html) to understand how we're converting categorical variables into numbers."
   ]
  },
  {
   "cell_type": "code",
   "execution_count": 15,
   "metadata": {},
   "outputs": [
    {
     "name": "stdout",
     "output_type": "stream",
     "text": [
      "(1271, 6) (1271, 1)\n"
     ]
    },
    {
     "data": {
      "text/plain": [
       "(array([[45.     ,  0.     , 37.60575,  0.     ,  0.     ,  1.     ],\n",
       "        [38.     ,  1.     , 30.723  ,  2.     ,  0.     ,  1.     ],\n",
       "        [19.     ,  0.     , 29.295  ,  0.     ,  1.     ,  3.     ],\n",
       "        ...,\n",
       "        [33.     ,  0.     , 35.175  ,  0.     ,  1.     ,  3.     ],\n",
       "        [53.     ,  1.     , 30.324  ,  0.     ,  0.     ,  1.     ],\n",
       "        [50.     ,  0.     , 48.3945 ,  1.     ,  0.     ,  2.     ]]),\n",
       " array([[ 7963.8135855],\n",
       "        [ 6651.578702 ],\n",
       "        [17391.47172  ],\n",
       "        ...,\n",
       "        [38191.75316  ],\n",
       "        [10165.904506 ],\n",
       "        [ 9836.052053 ]]))"
      ]
     },
     "execution_count": 15,
     "metadata": {},
     "output_type": "execute_result"
    }
   ],
   "source": [
    "inputs_array, targets_array = dataframe_to_arrays(dataframe)\n",
    "print(inputs_array.shape, targets_array.shape)\n",
    "inputs_array, targets_array"
   ]
  },
  {
   "cell_type": "markdown",
   "execution_count": null,
   "metadata": {},
   "source": [
    "**Q: Convert the numpy arrays `inputs_array` and `targets_array` into PyTorch tensors. Make sure that the data type is `torch.float32`.**"
   ]
  },
  {
   "cell_type": "code",
   "execution_count": 16,
   "metadata": {},
   "outputs": [],
   "source": [
    "inputs = torch.from_numpy(inputs_array).to(torch.float32)\n",
    "targets = torch.from_numpy(targets_array).to(torch.float32)"
   ]
  },
  {
   "cell_type": "code",
   "execution_count": 17,
   "metadata": {},
   "outputs": [
    {
     "data": {
      "text/plain": [
       "(torch.float32, torch.float32)"
      ]
     },
     "execution_count": 17,
     "metadata": {},
     "output_type": "execute_result"
    }
   ],
   "source": [
    "inputs.dtype, targets.dtype"
   ]
  },
  {
   "cell_type": "code",
   "execution_count": 18,
   "metadata": {
    "scrolled": true
   },
   "outputs": [
    {
     "name": "stdout",
     "output_type": "stream",
     "text": [
      "tensor([[45.0000,  0.0000, 37.6058,  0.0000,  0.0000,  1.0000],\n",
      "        [38.0000,  1.0000, 30.7230,  2.0000,  0.0000,  1.0000],\n",
      "        [19.0000,  0.0000, 29.2950,  0.0000,  1.0000,  3.0000],\n",
      "        ...,\n",
      "        [33.0000,  0.0000, 35.1750,  0.0000,  1.0000,  3.0000],\n",
      "        [53.0000,  1.0000, 30.3240,  0.0000,  0.0000,  1.0000],\n",
      "        [50.0000,  0.0000, 48.3945,  1.0000,  0.0000,  2.0000]]) tensor([[ 7963.8135],\n",
      "        [ 6651.5786],\n",
      "        [17391.4727],\n",
      "        ...,\n",
      "        [38191.7539],\n",
      "        [10165.9043],\n",
      "        [ 9836.0518]])\n"
     ]
    }
   ],
   "source": [
    "print(inputs,targets)"
   ]
  },
  {
   "cell_type": "markdown",
   "execution_count": null,
   "metadata": {},
   "source": [
    "Next, we need to create PyTorch datasets & data loaders for training & validation. We'll start by creating a `TensorDataset`."
   ]
  },
  {
   "cell_type": "code",
   "execution_count": 19,
   "metadata": {},
   "outputs": [],
   "source": [
    "dataset = TensorDataset(inputs, targets)"
   ]
  },
  {
   "cell_type": "markdown",
   "execution_count": null,
   "metadata": {},
   "source": [
    "***Q: Pick a number between `0.1` and `0.2` to determine the fraction of data that will be used for creating the validation set. Then use `random_split` to create training & validation datasets. ***"
   ]
  },
  {
   "cell_type": "code",
   "execution_count": 20,
   "metadata": {},
   "outputs": [
    {
     "name": "stdout",
     "output_type": "stream",
     "text": [
      "127\n",
      "1144\n"
     ]
    }
   ],
   "source": [
    "val_percent = 0.1 # between 0.1 and 0.2\n",
    "val_size = int(num_rows * val_percent)\n",
    "print(val_size)\n",
    "train_size = num_rows - val_size\n",
    "print(train_size)\n",
    "\n",
    "train_ds, val_ds = random_split(dataset,[train_size, val_size]) # Use the random_split function to split dataset into 2 parts of the desired length"
   ]
  },
  {
   "cell_type": "code",
   "execution_count": 21,
   "metadata": {},
   "outputs": [
    {
     "name": "stdout",
     "output_type": "stream",
     "text": [
      "1144\n",
      "127\n"
     ]
    }
   ],
   "source": [
    "print(len(train_ds))\n",
    "print(len(val_ds))"
   ]
  },
  {
   "cell_type": "markdown",
   "execution_count": null,
   "metadata": {},
   "source": [
    "Finally, we can create data loaders for training & validation.\n",
    "\n",
    "**Q: Pick a batch size for the data loader.**"
   ]
  },
  {
   "cell_type": "code",
   "execution_count": 22,
   "metadata": {},
   "outputs": [],
   "source": [
    "batch_size = 64 # Try to experiment with different batch sizes"
   ]
  },
  {
   "cell_type": "code",
   "execution_count": 23,
   "metadata": {},
   "outputs": [],
   "source": [
    "train_loader = DataLoader(train_ds, batch_size, shuffle=True)\n",
    "val_loader = DataLoader(val_ds, batch_size)"
   ]
  },
  {
   "cell_type": "markdown",
   "execution_count": null,
   "metadata": {},
   "source": [
    "Let's look at a batch of data to verify everything is working fine so far."
   ]
  },
  {
   "cell_type": "code",
   "execution_count": 24,
   "metadata": {
    "scrolled": true
   },
   "outputs": [
    {
     "name": "stdout",
     "output_type": "stream",
     "text": [
      "inputs: tensor([[45.0000,  1.0000, 24.0397,  2.0000,  1.0000,  1.0000],\n",
      "        [19.0000,  0.0000, 38.4038,  0.0000,  0.0000,  1.0000],\n",
      "        [22.0000,  0.0000, 41.7952,  0.0000,  0.0000,  0.0000],\n",
      "        [19.0000,  0.0000, 27.0322,  1.0000,  0.0000,  1.0000],\n",
      "        [27.0000,  1.0000, 34.2142,  3.0000,  0.0000,  0.0000],\n",
      "        [54.0000,  1.0000, 42.5933,  3.0000,  1.0000,  0.0000],\n",
      "        [43.0000,  1.0000, 24.3600,  0.0000,  0.0000,  3.0000],\n",
      "        [60.0000,  1.0000, 30.0247,  0.0000,  0.0000,  0.0000],\n",
      "        [18.0000,  0.0000, 29.6257,  0.0000,  0.0000,  0.0000],\n",
      "        [30.0000,  1.0000, 29.0273,  1.0000,  0.0000,  0.0000],\n",
      "        [34.0000,  1.0000, 45.0450,  1.0000,  0.0000,  3.0000],\n",
      "        [62.0000,  0.0000, 34.6133,  3.0000,  0.0000,  1.0000],\n",
      "        [28.0000,  1.0000, 39.9630,  0.0000,  0.0000,  2.0000],\n",
      "        [33.0000,  0.0000, 37.3065,  0.0000,  1.0000,  1.0000],\n",
      "        [28.0000,  0.0000, 25.0373,  2.0000,  0.0000,  1.0000],\n",
      "        [52.0000,  1.0000, 40.5300,  2.0000,  0.0000,  3.0000],\n",
      "        [32.0000,  0.0000, 21.5460,  0.0000,  0.0000,  0.0000],\n",
      "        [24.0000,  0.0000, 27.9300,  0.0000,  0.0000,  0.0000],\n",
      "        [37.0000,  0.0000, 18.1545,  2.0000,  0.0000,  0.0000],\n",
      "        [52.0000,  1.0000, 25.5360,  3.0000,  1.0000,  0.0000],\n",
      "        [47.0000,  0.0000, 30.8385,  1.0000,  0.0000,  2.0000],\n",
      "        [62.0000,  0.0000, 33.3165,  0.0000,  0.0000,  0.0000],\n",
      "        [19.0000,  0.0000, 31.5210,  0.0000,  1.0000,  1.0000],\n",
      "        [32.0000,  0.0000, 24.8325,  1.0000,  0.0000,  2.0000],\n",
      "        [60.0000,  1.0000, 42.9660,  0.0000,  1.0000,  2.0000],\n",
      "        [54.0000,  0.0000, 33.4950,  1.0000,  0.0000,  2.0000],\n",
      "        [33.0000,  0.0000, 25.5255,  0.0000,  0.0000,  2.0000],\n",
      "        [18.0000,  0.0000, 33.5160,  0.0000,  0.0000,  0.0000],\n",
      "        [36.0000,  0.0000, 30.4920,  4.0000,  0.0000,  2.0000],\n",
      "        [19.0000,  0.0000, 34.7655,  0.0000,  1.0000,  2.0000],\n",
      "        [48.0000,  0.0000, 30.3240,  1.0000,  0.0000,  1.0000],\n",
      "        [50.0000,  1.0000, 27.9300,  0.0000,  0.0000,  3.0000],\n",
      "        [34.0000,  0.0000, 28.8750,  1.0000,  0.0000,  3.0000],\n",
      "        [47.0000,  1.0000, 40.8870,  2.0000,  1.0000,  2.0000],\n",
      "        [55.0000,  0.0000, 34.0148,  1.0000,  0.0000,  0.0000],\n",
      "        [18.0000,  0.0000, 40.1940,  0.0000,  0.0000,  2.0000],\n",
      "        [53.0000,  1.0000, 25.5360,  0.0000,  0.0000,  1.0000],\n",
      "        [23.0000,  0.0000, 44.8875,  1.0000,  1.0000,  0.0000],\n",
      "        [42.0000,  0.0000, 26.5650,  1.0000,  0.0000,  3.0000],\n",
      "        [19.0000,  0.0000, 34.5450,  0.0000,  0.0000,  3.0000],\n",
      "        [52.0000,  0.0000, 26.1030,  0.0000,  0.0000,  2.0000],\n",
      "        [56.0000,  0.0000, 33.9150,  3.0000,  0.0000,  0.0000],\n",
      "        [29.0000,  0.0000, 25.8300,  2.0000,  0.0000,  3.0000],\n",
      "        [20.0000,  0.0000, 30.2243,  0.0000,  0.0000,  0.0000],\n",
      "        [62.0000,  0.0000, 38.7030,  1.0000,  0.0000,  0.0000],\n",
      "        [32.0000,  1.0000, 35.5110,  1.0000,  0.0000,  1.0000],\n",
      "        [50.0000,  0.0000, 28.4287,  1.0000,  0.0000,  0.0000],\n",
      "        [19.0000,  1.0000, 21.3150,  0.0000,  0.0000,  3.0000],\n",
      "        [64.0000,  1.0000, 40.0995,  0.0000,  0.0000,  0.0000],\n",
      "        [46.0000,  1.0000, 44.4675,  3.0000,  1.0000,  2.0000],\n",
      "        [28.0000,  1.0000, 32.4188,  0.0000,  0.0000,  1.0000],\n",
      "        [63.0000,  1.0000, 32.3400,  0.0000,  0.0000,  3.0000],\n",
      "        [45.0000,  1.0000, 25.5255,  5.0000,  0.0000,  2.0000],\n",
      "        [49.0000,  1.0000, 32.9175,  1.0000,  0.0000,  0.0000],\n",
      "        [18.0000,  0.0000, 32.6865,  0.0000,  0.0000,  2.0000],\n",
      "        [54.0000,  0.0000, 25.8353,  3.0000,  0.0000,  1.0000],\n",
      "        [30.0000,  0.0000, 20.9475,  3.0000,  0.0000,  1.0000],\n",
      "        [60.0000,  1.0000, 34.4400,  0.0000,  1.0000,  3.0000],\n",
      "        [19.0000,  0.0000, 41.5957,  1.0000,  0.0000,  1.0000],\n",
      "        [32.0000,  0.0000, 31.0695,  1.0000,  0.0000,  2.0000],\n",
      "        [49.0000,  0.0000, 23.7405,  1.0000,  0.0000,  1.0000],\n",
      "        [21.0000,  0.0000, 23.2418,  0.0000,  0.0000,  0.0000],\n",
      "        [27.0000,  1.0000, 44.2365,  0.0000,  1.0000,  2.0000],\n",
      "        [29.0000,  1.0000, 28.5600,  0.0000,  0.0000,  3.0000]])\n",
      "targets: tensor([[21731.5098],\n",
      "        [ 2200.9888],\n",
      "        [ 2837.6716],\n",
      "        [ 2792.1533],\n",
      "        [ 4992.3276],\n",
      "        [50005.6523],\n",
      "        [ 6437.9482],\n",
      "        [31167.7949],\n",
      "        [ 2266.8557],\n",
      "        [ 4364.2402],\n",
      "        [ 4672.3467],\n",
      "        [16080.5596],\n",
      "        [ 2770.1802],\n",
      "        [56789.4648],\n",
      "        [ 4861.3286],\n",
      "        [10634.9619],\n",
      "        [ 4680.5620],\n",
      "        [ 3137.4438],\n",
      "        [ 7084.3193],\n",
      "        [25615.9316],\n",
      "        [ 8804.1221],\n",
      "        [14464.7812],\n",
      "        [34306.7773],\n",
      "        [18155.0273],\n",
      "        [50133.7656],\n",
      "        [11256.7148],\n",
      "        [ 4310.6509],\n",
      "        [ 2272.1602],\n",
      "        [ 7461.1279],\n",
      "        [35473.0508],\n",
      "        [ 9526.9805],\n",
      "        [ 8697.8086],\n",
      "        [ 5153.9688],\n",
      "        [45528.7344],\n",
      "        [12235.4775],\n",
      "        [14557.0293],\n",
      "        [10159.3760],\n",
      "        [42131.3242],\n",
      "        [ 7256.8638],\n",
      "        [ 1801.2372],\n",
      "        [27931.5332],\n",
      "        [13833.1729],\n",
      "        [ 4665.3613],\n",
      "        [ 2530.9275],\n",
      "        [32568.6016],\n",
      "        [ 4596.6035],\n",
      "        [10409.3184],\n",
      "        [ 1279.5278],\n",
      "        [14843.2598],\n",
      "        [47535.6602],\n",
      "        [ 3154.3835],\n",
      "        [13792.2754],\n",
      "        [10082.5322],\n",
      "        [ 9568.8438],\n",
      "        [ 1670.5392],\n",
      "        [12854.1006],\n",
      "        [ 5864.2334],\n",
      "        [54168.5547],\n",
      "        [ 2812.0110],\n",
      "        [ 4699.7275],\n",
      "        [ 9854.0010],\n",
      "        [ 2663.4263],\n",
      "        [40800.1094],\n",
      "        [ 2952.0737]])\n"
     ]
    }
   ],
   "source": [
    "for xb, yb in train_loader:\n",
    "    print(\"inputs:\", xb)\n",
    "    print(\"targets:\", yb)\n",
    "    break"
   ]
  },
  {
   "cell_type": "markdown",
   "execution_count": null,
   "metadata": {},
   "source": [
    "## Step 3: Create a Linear Regression Model\n",
    "\n",
    "Our model itself is a fairly straightforward linear regression."
   ]
  },
  {
   "cell_type": "code",
   "execution_count": 25,
   "metadata": {},
   "outputs": [
    {
     "name": "stdout",
     "output_type": "stream",
     "text": [
      "6\n",
      "1\n"
     ]
    }
   ],
   "source": [
    "input_size = len(input_cols)\n",
    "print(input_size)\n",
    "output_size = len(output_cols)\n",
    "print(output_size)"
   ]
  },
  {
   "cell_type": "code",
   "execution_count": 26,
   "metadata": {},
   "outputs": [],
   "source": [
    "class InsuranceModel(nn.Module):\n",
    "    def __init__(self):\n",
    "        super().__init__()\n",
    "        self.linear = nn.Linear(input_size,output_size) \n",
    "        \n",
    "    def forward(self, xb):\n",
    "        out = self.linear(xb)                          \n",
    "        return out\n",
    "    \n",
    "    def training_step(self, batch):\n",
    "        inputs, targets = batch \n",
    "        # Generate predictions\n",
    "        out = self(inputs)          \n",
    "        # Calcuate loss\n",
    "        loss = F.l1_loss(out, targets)                \n",
    "        return loss\n",
    "    \n",
    "    def validation_step(self, batch):\n",
    "        inputs, targets = batch\n",
    "        # Generate predictions\n",
    "        out = self(inputs)\n",
    "        # Calculate loss\n",
    "        loss = F.l1_loss(out, targets)                    \n",
    "        return {'val_loss': loss.detach()}\n",
    "        \n",
    "    def validation_epoch_end(self, outputs):\n",
    "        batch_losses = [x['val_loss'] for x in outputs]\n",
    "        epoch_loss = torch.stack(batch_losses).mean()   # Combine losses\n",
    "        return {'val_loss': epoch_loss.item()}\n",
    "    \n",
    "    def epoch_end(self, epoch, result, num_epochs):\n",
    "        # Print result every 20th epoch\n",
    "        if (epoch+1) % 500 == 0 or epoch == num_epochs-1:\n",
    "            print(\"Epoch [{}], val_loss: {:.4f}\".format(epoch+1, result['val_loss']))"
   ]
  },
  {
   "cell_type": "markdown",
   "execution_count": null,
   "metadata": {},
   "source": [
    "Let us create a model using the `InsuranceModel` class. You may need to come back later and re-run the next cell to reinitialize the model, in case the loss becomes `nan` or `infinity`."
   ]
  },
  {
   "cell_type": "code",
   "execution_count": 27,
   "metadata": {},
   "outputs": [],
   "source": [
    "model = InsuranceModel()"
   ]
  },
  {
   "cell_type": "markdown",
   "execution_count": null,
   "metadata": {},
   "source": [
    "Let's check out the weights and biases of the model using `model.parameters`."
   ]
  },
  {
   "cell_type": "code",
   "execution_count": 28,
   "metadata": {},
   "outputs": [
    {
     "data": {
      "text/plain": [
       "[Parameter containing:\n",
       " tensor([[ 0.3684,  0.0414, -0.3616, -0.3489,  0.0746,  0.2957]],\n",
       "        requires_grad=True),\n",
       " Parameter containing:\n",
       " tensor([0.3785], requires_grad=True)]"
      ]
     },
     "execution_count": 28,
     "metadata": {},
     "output_type": "execute_result"
    }
   ],
   "source": [
    "list(model.parameters())"
   ]
  },
  {
   "cell_type": "markdown",
   "execution_count": null,
   "metadata": {},
   "source": [
    "## Step 4: Train the model to fit the data\n",
    "\n",
    "To train our model, we'll use the same `fit` function explained in the lecture. That's the benefit of defining a generic training loop - you can use it for any problem."
   ]
  },
  {
   "cell_type": "code",
   "execution_count": 29,
   "metadata": {},
   "outputs": [],
   "source": [
    "def evaluate(model, val_loader):\n",
    "    outputs = [model.validation_step(batch) for batch in val_loader]\n",
    "    return model.validation_epoch_end(outputs)\n",
    "\n",
    "def fit(epochs, lr, model, train_loader, val_loader, opt_func=torch.optim.SGD):\n",
    "    history = []\n",
    "    optimizer = opt_func(model.parameters(), lr)\n",
    "    for epoch in range(epochs):\n",
    "        # Training Phase \n",
    "        for batch in train_loader:\n",
    "            loss = model.training_step(batch)\n",
    "            loss.backward()\n",
    "            optimizer.step()\n",
    "            optimizer.zero_grad()\n",
    "        # Validation phase\n",
    "        result = evaluate(model, val_loader)\n",
    "        model.epoch_end(epoch, result, epochs)\n",
    "        history.append(result)\n",
    "    return history"
   ]
  },
  {
   "cell_type": "code",
   "execution_count": 30,
   "metadata": {},
   "outputs": [
    {
     "name": "stdout",
     "output_type": "stream",
     "text": [
      "{'val_loss': 12003.1806640625}\n"
     ]
    }
   ],
   "source": [
    "result = evaluate(model, val_loader) # Use the the evaluate function\n",
    "print(result)"
   ]
  },
  {
   "cell_type": "markdown",
   "execution_count": null,
   "metadata": {},
   "source": [
    "\n",
    "We are now ready to train the model. You may need to run the training loop many times, for different number of epochs and with different learning rates, to get a good result. Also, if your loss becomes too large (or `nan`), you may have to re-initialize the model by running the cell `model = InsuranceModel()`. Experiment with this for a while, and try to get to as low a loss as possible."
   ]
  },
  {
   "cell_type": "code",
   "execution_count": 31,
   "metadata": {},
   "outputs": [],
   "source": [
    "# model = InsuranceModel() # In case of re-initialization"
   ]
  },
  {
   "cell_type": "markdown",
   "execution_count": null,
   "metadata": {},
   "source": [
    "**Q: Train the model 4-5 times with different learning rates & for different number of epochs.**\n",
    "\n",
    "Hint: Vary learning rates by orders of 10 (e.g. `1e-2`, `1e-3`, `1e-4`, `1e-5`, `1e-6`) to figure out what works."
   ]
  },
  {
   "cell_type": "code",
   "execution_count": 32,
   "metadata": {},
   "outputs": [
    {
     "name": "stdout",
     "output_type": "stream",
     "text": [
      "Epoch [500], val_loss: 6240.2764\n",
      "Epoch [1000], val_loss: 6106.4189\n"
     ]
    }
   ],
   "source": [
    "epochs = 1000\n",
    "lr = 0.001\n",
    "history1 = fit(epochs, lr, model, train_loader, val_loader)"
   ]
  },
  {
   "cell_type": "code",
   "execution_count": 33,
   "metadata": {},
   "outputs": [
    {
     "name": "stdout",
     "output_type": "stream",
     "text": [
      "Epoch [500], val_loss: 5587.8579\n",
      "Epoch [1000], val_loss: 5520.3887\n",
      "Epoch [1500], val_loss: 5467.5127\n"
     ]
    }
   ],
   "source": [
    "epochs = 1500\n",
    "lr = 0.05\n",
    "history2 = fit(epochs, lr, model, train_loader, val_loader)"
   ]
  },
  {
   "cell_type": "code",
   "execution_count": 34,
   "metadata": {},
   "outputs": [
    {
     "name": "stdout",
     "output_type": "stream",
     "text": [
      "Epoch [500], val_loss: 5400.7422\n",
      "Epoch [1000], val_loss: 5366.8809\n",
      "Epoch [1500], val_loss: 5293.9941\n",
      "Epoch [2000], val_loss: 5255.5586\n"
     ]
    }
   ],
   "source": [
    "epochs = 2000\n",
    "lr = 0.1\n",
    "history3 = fit(epochs, lr, model, train_loader, val_loader)"
   ]
  },
  {
   "cell_type": "code",
   "execution_count": 35,
   "metadata": {
    "scrolled": true
   },
   "outputs": [
    {
     "name": "stdout",
     "output_type": "stream",
     "text": [
      "Epoch [500], val_loss: 5143.3389\n",
      "Epoch [1000], val_loss: 4934.2090\n",
      "Epoch [1500], val_loss: 4769.5605\n",
      "Epoch [2000], val_loss: 4593.8115\n",
      "Epoch [2500], val_loss: 4430.6343\n"
     ]
    }
   ],
   "source": [
    "epochs = 2500\n",
    "lr = 0.4\n",
    "history4 = fit(epochs, lr, model, train_loader, val_loader)"
   ]
  },
  {
   "cell_type": "code",
   "execution_count": 36,
   "metadata": {},
   "outputs": [
    {
     "name": "stdout",
     "output_type": "stream",
     "text": [
      "Epoch [500], val_loss: 4164.7314\n",
      "Epoch [1000], val_loss: 3912.3760\n",
      "Epoch [1500], val_loss: 3528.1680\n",
      "Epoch [2000], val_loss: 3268.0737\n",
      "Epoch [2500], val_loss: 2961.0212\n",
      "Epoch [3000], val_loss: 2786.9907\n"
     ]
    }
   ],
   "source": [
    "epochs = 3000\n",
    "lr = 0.8\n",
    "history5 = fit(epochs, lr, model, train_loader, val_loader)"
   ]
  },
  {
   "cell_type": "markdown",
   "execution_count": null,
   "metadata": {},
   "source": [
    "**Q: What is the final validation loss of your model?**"
   ]
  },
  {
   "cell_type": "code",
   "execution_count": 37,
   "metadata": {},
   "outputs": [
    {
     "data": {
      "text/plain": [
       "{'val_loss': 2786.99072265625}"
      ]
     },
     "execution_count": 37,
     "metadata": {},
     "output_type": "execute_result"
    }
   ],
   "source": [
    "val_loss = history5[-1]\n",
    "val_loss"
   ]
  },
  {
   "cell_type": "markdown",
   "execution_count": null,
   "metadata": {},
   "source": [
    "Now scroll back up, re-initialize the model, and try different set of values for batch size, number of epochs, learning rate etc."
   ]
  },
  {
   "cell_type": "markdown",
   "execution_count": null,
   "metadata": {},
   "source": [
    "## Step 5: Make predictions using the trained model"
   ]
  },
  {
   "cell_type": "code",
   "execution_count": 38,
   "metadata": {},
   "outputs": [],
   "source": [
    "def predict_single(input, target, model):\n",
    "    inputs = input.unsqueeze(0)\n",
    "    predictions = model(inputs)               \n",
    "    prediction = predictions[0].detach()\n",
    "    print(\"Input:\", input)\n",
    "    print(\"Target:\", target)\n",
    "    print(\"Prediction:\", prediction)"
   ]
  },
  {
   "cell_type": "code",
   "execution_count": 39,
   "metadata": {},
   "outputs": [
    {
     "name": "stdout",
     "output_type": "stream",
     "text": [
      "Input: tensor([18.0000,  1.0000, 35.3430,  0.0000,  0.0000,  2.0000])\n",
      "Target: tensor([1170.4913])\n",
      "Prediction: tensor([858.6514])\n"
     ]
    }
   ],
   "source": [
    "input, target = val_ds[0]\n",
    "predict_single(input, target, model)"
   ]
  },
  {
   "cell_type": "code",
   "execution_count": 40,
   "metadata": {},
   "outputs": [
    {
     "name": "stdout",
     "output_type": "stream",
     "text": [
      "Input: tensor([47.0000,  0.0000, 37.8000,  1.0000,  0.0000,  3.0000])\n",
      "Target: tensor([8813.6143])\n",
      "Prediction: tensor([9118.6387])\n"
     ]
    }
   ],
   "source": [
    "input, target = val_ds[10]\n",
    "predict_single(input, target, model)"
   ]
  },
  {
   "cell_type": "code",
   "execution_count": 41,
   "metadata": {},
   "outputs": [
    {
     "name": "stdout",
     "output_type": "stream",
     "text": [
      "Input: tensor([32.0000,  0.0000, 39.0023,  3.0000,  0.0000,  0.0000])\n",
      "Target: tensor([6524.3740])\n",
      "Prediction: tensor([6612.6909])\n"
     ]
    }
   ],
   "source": [
    "input, target = val_ds[13]\n",
    "predict_single(input, target, model)"
   ]
  },
  {
   "cell_type": "code",
   "execution_count": 42,
   "metadata": {},
   "outputs": [
    {
     "name": "stdout",
     "output_type": "stream",
     "text": [
      "Input: tensor([54.0000,  0.0000, 22.5435,  3.0000,  0.0000,  1.0000])\n",
      "Target: tensor([12849.6123])\n",
      "Prediction: tensor([12330.1895])\n"
     ]
    }
   ],
   "source": [
    "input, target = val_ds[54]\n",
    "predict_single(input, target, model)"
   ]
  },
  {
   "cell_type": "code",
   "execution_count": 43,
   "metadata": {},
   "outputs": [
    {
     "name": "stdout",
     "output_type": "stream",
     "text": [
      "Input: tensor([42.0000,  0.0000, 24.5385,  0.0000,  1.0000,  0.0000])\n",
      "Target: tensor([20563.6895])\n",
      "Prediction: tensor([21377.7363])\n"
     ]
    }
   ],
   "source": [
    "input, target = val_ds[87]\n",
    "predict_single(input, target, model)"
   ]
  },
  {
   "cell_type": "markdown",
   "execution_count": null,
   "metadata": {},
   "source": [
    "Are you happy with your model's predictions? Try to improve them further."
   ]
  }
 ],
 "metadata": {
  "kernelspec": {
   "display_name": "Python 3",
   "language": "python",
   "name": "python3"
  },
  "language_info": {
   "codemirror_mode": {
    "name": "ipython",
    "version": 3
   },
   "file_extension": ".py",
   "mimetype": "text/x-python",
   "name": "python",
   "nbconvert_exporter": "python",
   "pygments_lexer": "ipython3",
   "version": "3.7.6"
  },
  "widgets": {
   "application/vnd.jupyter.widget-state+json": {
    "state": {
     "019f8dad1206482bb97f5118ba5894ae": {
      "model_module": "@jupyter-widgets/base",
      "model_module_version": "1.2.0",
      "model_name": "LayoutModel",
      "state": {
       "_model_module": "@jupyter-widgets/base",
       "_model_module_version": "1.2.0",
       "_model_name": "LayoutModel",
       "_view_count": null,
       "_view_module": "@jupyter-widgets/base",
       "_view_module_version": "1.2.0",
       "_view_name": "LayoutView",
       "align_content": null,
       "align_items": null,
       "align_self": null,
       "border": null,
       "bottom": null,
       "display": null,
       "flex": null,
       "flex_flow": null,
       "grid_area": null,
       "grid_auto_columns": null,
       "grid_auto_flow": null,
       "grid_auto_rows": null,
       "grid_column": null,
       "grid_gap": null,
       "grid_row": null,
       "grid_template_areas": null,
       "grid_template_columns": null,
       "grid_template_rows": null,
       "height": null,
       "justify_content": null,
       "justify_items": null,
       "left": null,
       "margin": null,
       "max_height": null,
       "max_width": null,
       "min_height": null,
       "min_width": null,
       "object_fit": null,
       "object_position": null,
       "order": null,
       "overflow": null,
       "overflow_x": null,
       "overflow_y": null,
       "padding": null,
       "right": null,
       "top": null,
       "visibility": null,
       "width": null
      }
     },
     "1f61bb39922149b8829d0f3881b731bb": {
      "model_module": "@jupyter-widgets/controls",
      "model_module_version": "1.5.0",
      "model_name": "ProgressStyleModel",
      "state": {
       "_model_module": "@jupyter-widgets/controls",
       "_model_module_version": "1.5.0",
       "_model_name": "ProgressStyleModel",
       "_view_count": null,
       "_view_module": "@jupyter-widgets/base",
       "_view_module_version": "1.2.0",
       "_view_name": "StyleView",
       "bar_color": null,
       "description_width": "initial"
      }
     },
     "2e637c1acea7410db372aa2363a0abaf": {
      "model_module": "@jupyter-widgets/base",
      "model_module_version": "1.2.0",
      "model_name": "LayoutModel",
      "state": {
       "_model_module": "@jupyter-widgets/base",
       "_model_module_version": "1.2.0",
       "_model_name": "LayoutModel",
       "_view_count": null,
       "_view_module": "@jupyter-widgets/base",
       "_view_module_version": "1.2.0",
       "_view_name": "LayoutView",
       "align_content": null,
       "align_items": null,
       "align_self": null,
       "border": null,
       "bottom": null,
       "display": null,
       "flex": null,
       "flex_flow": null,
       "grid_area": null,
       "grid_auto_columns": null,
       "grid_auto_flow": null,
       "grid_auto_rows": null,
       "grid_column": null,
       "grid_gap": null,
       "grid_row": null,
       "grid_template_areas": null,
       "grid_template_columns": null,
       "grid_template_rows": null,
       "height": null,
       "justify_content": null,
       "justify_items": null,
       "left": null,
       "margin": null,
       "max_height": null,
       "max_width": null,
       "min_height": null,
       "min_width": null,
       "object_fit": null,
       "object_position": null,
       "order": null,
       "overflow": null,
       "overflow_x": null,
       "overflow_y": null,
       "padding": null,
       "right": null,
       "top": null,
       "visibility": null,
       "width": null
      }
     },
     "35fa47a3d6404f0088f9d519c0c1b492": {
      "model_module": "@jupyter-widgets/controls",
      "model_module_version": "1.5.0",
      "model_name": "DescriptionStyleModel",
      "state": {
       "_model_module": "@jupyter-widgets/controls",
       "_model_module_version": "1.5.0",
       "_model_name": "DescriptionStyleModel",
       "_view_count": null,
       "_view_module": "@jupyter-widgets/base",
       "_view_module_version": "1.2.0",
       "_view_name": "StyleView",
       "description_width": ""
      }
     },
     "4a4b671094984cb18c43ce4950c8460d": {
      "model_module": "@jupyter-widgets/controls",
      "model_module_version": "1.5.0",
      "model_name": "FloatProgressModel",
      "state": {
       "_dom_classes": [],
       "_model_module": "@jupyter-widgets/controls",
       "_model_module_version": "1.5.0",
       "_model_name": "FloatProgressModel",
       "_view_count": null,
       "_view_module": "@jupyter-widgets/controls",
       "_view_module_version": "1.5.0",
       "_view_name": "ProgressView",
       "bar_style": "success",
       "description": "",
       "description_tooltip": null,
       "layout": "IPY_MODEL_74eca0cef8364d1a871b3bf969b51fa3",
       "max": 1.0,
       "min": 0.0,
       "orientation": "horizontal",
       "style": "IPY_MODEL_1f61bb39922149b8829d0f3881b731bb",
       "value": 1.0
      }
     },
     "597fee0519974126b122c5c083fa7e06": {
      "model_module": "@jupyter-widgets/controls",
      "model_module_version": "1.5.0",
      "model_name": "HBoxModel",
      "state": {
       "_dom_classes": [],
       "_model_module": "@jupyter-widgets/controls",
       "_model_module_version": "1.5.0",
       "_model_name": "HBoxModel",
       "_view_count": null,
       "_view_module": "@jupyter-widgets/controls",
       "_view_module_version": "1.5.0",
       "_view_name": "HBoxView",
       "box_style": "",
       "children": [
        "IPY_MODEL_4a4b671094984cb18c43ce4950c8460d",
        "IPY_MODEL_753e5a7adc3e45c292624287701d0c19"
       ],
       "layout": "IPY_MODEL_019f8dad1206482bb97f5118ba5894ae"
      }
     },
     "74eca0cef8364d1a871b3bf969b51fa3": {
      "model_module": "@jupyter-widgets/base",
      "model_module_version": "1.2.0",
      "model_name": "LayoutModel",
      "state": {
       "_model_module": "@jupyter-widgets/base",
       "_model_module_version": "1.2.0",
       "_model_name": "LayoutModel",
       "_view_count": null,
       "_view_module": "@jupyter-widgets/base",
       "_view_module_version": "1.2.0",
       "_view_name": "LayoutView",
       "align_content": null,
       "align_items": null,
       "align_self": null,
       "border": null,
       "bottom": null,
       "display": null,
       "flex": null,
       "flex_flow": null,
       "grid_area": null,
       "grid_auto_columns": null,
       "grid_auto_flow": null,
       "grid_auto_rows": null,
       "grid_column": null,
       "grid_gap": null,
       "grid_row": null,
       "grid_template_areas": null,
       "grid_template_columns": null,
       "grid_template_rows": null,
       "height": null,
       "justify_content": null,
       "justify_items": null,
       "left": null,
       "margin": null,
       "max_height": null,
       "max_width": null,
       "min_height": null,
       "min_width": null,
       "object_fit": null,
       "object_position": null,
       "order": null,
       "overflow": null,
       "overflow_x": null,
       "overflow_y": null,
       "padding": null,
       "right": null,
       "top": null,
       "visibility": null,
       "width": null
      }
     },
     "753e5a7adc3e45c292624287701d0c19": {
      "model_module": "@jupyter-widgets/controls",
      "model_module_version": "1.5.0",
      "model_name": "HTMLModel",
      "state": {
       "_dom_classes": [],
       "_model_module": "@jupyter-widgets/controls",
       "_model_module_version": "1.5.0",
       "_model_name": "HTMLModel",
       "_view_count": null,
       "_view_module": "@jupyter-widgets/controls",
       "_view_module_version": "1.5.0",
       "_view_name": "HTMLView",
       "description": "",
       "description_tooltip": null,
       "layout": "IPY_MODEL_2e637c1acea7410db372aa2363a0abaf",
       "placeholder": "​",
       "style": "IPY_MODEL_35fa47a3d6404f0088f9d519c0c1b492",
       "value": " 57344/? [00:01&lt;00:00, 34357.59it/s]"
      }
     }
    },
    "version_major": 2,
    "version_minor": 0
   }
  }
 },
 "nbformat": 4,
 "nbformat_minor": 4
}
